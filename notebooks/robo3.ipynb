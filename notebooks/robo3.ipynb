{
 "cells": [
  {
   "cell_type": "code",
   "execution_count": null,
   "outputs": [],
   "source": [
    "!pip install torchinfo"
   ],
   "metadata": {
    "collapsed": false
   }
  },
  {
   "cell_type": "code",
   "execution_count": null,
   "outputs": [],
   "source": [
    "import torch\n",
    "import torchinfo\n",
    "import cv2\n",
    "from ultralytics import YOLO\n"
   ],
   "metadata": {
    "collapsed": false
   }
  },
  {
   "cell_type": "code",
   "execution_count": null,
   "outputs": [],
   "source": [
    "# load custom yolov5 model\n",
    "# model = torch.hub.load('ultralytics/yolov8', \"custom\", path='../ml_models/model_100epochs_v1.pt', force_reload=True).autoshape()\n",
    "checkpoint = YOLO('../ml_models/model_100epochs_v1.pt')\n",
    "model = checkpoint.model\n",
    "# show model information\n",
    "torchinfo.summary(checkpoint.model, input_size=(1, 3, 640, 640), col_names=(\"input_size\", \"output_size\", \"num_params\", \"kernel_size\", \"mult_adds\"), depth=4)\n",
    "# print(checkpoint)"
   ],
   "metadata": {
    "collapsed": false
   }
  },
  {
   "cell_type": "code",
   "execution_count": null,
   "outputs": [],
   "source": [
    "# draw boxes around detected objects\n",
    "def analyze_image(model, frame):\n",
    "    results = model(frame)\n",
    "\n",
    "    label, coord = results.xyxy[0][:, -1], results.xyxy[0][:, :-1]\n",
    "\n",
    "    x_shape, y_shape = frame.shape[1], frame.shape[0]\n",
    "    print(\"len label\", len(label))\n",
    "    if (len(label) > 0):\n",
    "        row = coord[0]\n",
    "        x1, y1, x2, y2 = int(row[0] * x_shape), int(row[1] * y_shape), int(row[2] * x_shape), int(row[3] * y_shape)\n",
    "        bgr = (0, 255, 0)\n",
    "        cv2.rectangle(frame, (x1, y1), (x2, y2), bgr, 2)\n",
    "        print(label, coord)\n",
    "    # for i in range(len(label)):\n",
    "    #     row = coord[i]\n",
    "    #     x1, y1, x2, y2 = int(row[0] * x_shape), int(row[1] * y_shape), int(row[2] * x_shape), int(row[3] * y_shape)\n",
    "    #     bgr = (0, 255, 0)\n",
    "    #     cv2.rectangle(frame, (x1, y1), (x2, y2), bgr, 2)\n",
    "    #     print(label,coord)\n",
    "\n",
    "    cv2.imshow('frame', frame)\n"
   ],
   "metadata": {
    "collapsed": false
   }
  },
  {
   "cell_type": "code",
   "execution_count": null,
   "outputs": [],
   "source": [
    "cap = cv2.VideoCapture('../data/video.mp4')\n",
    "while True:\n",
    "    ret, frame = cap.read()\n",
    "    frame = cv2.resize(frame, (640, 640))\n",
    "    analyze_image(model, frame)\n",
    "\n",
    "    if cv2.waitKey(1) & 0xFF == ord('q'):\n",
    "        break\n",
    "\n",
    "cap.release()\n",
    "cv2.destroyAllWindows()"
   ],
   "metadata": {
    "collapsed": false
   }
  },
  {
   "cell_type": "code",
   "execution_count": null,
   "outputs": [],
   "source": [],
   "metadata": {
    "collapsed": false
   }
  }
 ],
 "metadata": {
  "kernelspec": {
   "name": "bigdata",
   "language": "python",
   "display_name": "BigData"
  },
  "language_info": {
   "codemirror_mode": {
    "name": "ipython",
    "version": 2
   },
   "file_extension": ".py",
   "mimetype": "text/x-python",
   "name": "python",
   "nbconvert_exporter": "python",
   "pygments_lexer": "ipython2",
   "version": "2.7.6"
  }
 },
 "nbformat": 4,
 "nbformat_minor": 0
}
