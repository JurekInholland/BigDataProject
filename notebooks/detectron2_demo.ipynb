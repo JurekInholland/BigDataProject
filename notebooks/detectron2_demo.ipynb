{
 "cells": [
  {
   "cell_type": "code",
   "execution_count": 40,
   "metadata": {
    "collapsed": true
   },
   "outputs": [
    {
     "name": "stdout",
     "output_type": "stream",
     "text": [
      "nvcc: NVIDIA (R) Cuda compiler driver\n",
      "Copyright (c) 2005-2023 NVIDIA Corporation\n",
      "Built on Wed_Feb__8_05:53:42_Coordinated_Universal_Time_2023\n",
      "Cuda compilation tools, release 12.1, V12.1.66\n",
      "Build cuda_12.1.r12.1/compiler.32415258_0\n",
      "torch:  2.1 ; cuda:  cu118\n",
      "detectron2: 0.6\n",
      "2.1.0.dev20230317+cu118\n"
     ]
    }
   ],
   "source": [
    "import sys, os, distutils.core\n",
    "import torch, detectron2\n",
    "!nvcc --version\n",
    "TORCH_VERSION = \".\".join(torch.__version__.split(\".\")[:2])\n",
    "CUDA_VERSION = torch.__version__.split(\"+\")[-1]\n",
    "print(\"torch: \", TORCH_VERSION, \"; cuda: \", CUDA_VERSION)\n",
    "print(\"detectron2:\", detectron2.__version__)\n",
    "print(torch.__version__)"
   ]
  },
  {
   "cell_type": "code",
   "execution_count": 41,
   "outputs": [],
   "source": [
    "# Some basic setup:\n",
    "# Setup detectron2 logger\n",
    "import detectron2\n",
    "from detectron2.utils.logger import setup_logger\n",
    "\n",
    "setup_logger()\n",
    "\n",
    "# import some common libraries\n",
    "import numpy as np\n",
    "import os, json, cv2, random\n",
    "# from google.colab.patches import cv2_imshow\n",
    "import cv2\n",
    "\n",
    "# import some common detectron2 utilities\n",
    "from detectron2 import model_zoo\n",
    "from detectron2.engine import DefaultPredictor\n",
    "from detectron2.config import get_cfg\n",
    "from detectron2.utils.visualizer import Visualizer\n",
    "from detectron2.data import MetadataCatalog, DatasetCatalog"
   ],
   "metadata": {
    "collapsed": false
   }
  },
  {
   "cell_type": "code",
   "execution_count": 42,
   "outputs": [],
   "source": [
    "# im = cv2.imread(\"../data/example/000000439715.jpg\")\n",
    "# im = cv2.imread(\"../data/example/tim_paddle_135.jpg\")\n",
    "# im = cv2.imread(\"../data/example/fendy_tim_inholland_780.jpg\")\n",
    "# im = cv2.imread(\"../data/example/prevgroup_vid9_220.jpg\")\n",
    "im = cv2.imread(\"../data/example/Stilleben-Heem-Jan-Davidsz-de-oil-painting-1.jpg\")\n",
    "# cv2.imshow('', im)\n",
    "# cv2.waitKey(0)"
   ],
   "metadata": {
    "collapsed": false
   }
  },
  {
   "cell_type": "code",
   "execution_count": 43,
   "outputs": [
    {
     "name": "stdout",
     "output_type": "stream",
     "text": [
      "\u001B[32m[03/17 18:41:17 d2.checkpoint.detection_checkpoint]: \u001B[0m[DetectionCheckpointer] Loading from https://dl.fbaipublicfiles.com/detectron2/COCO-InstanceSegmentation/mask_rcnn_R_50_FPN_3x/137849600/model_final_f10217.pkl ...\n"
     ]
    }
   ],
   "source": [
    "cfg = get_cfg()\n",
    "cfg.merge_from_file(model_zoo.get_config_file(\"COCO-InstanceSegmentation/mask_rcnn_R_50_FPN_3x.yaml\"))\n",
    "cfg.MODEL.ROI_HEADS.SCORE_THRESH_TEST = 0.1  # set threshold for this model\n",
    "cfg.MODEL.WEIGHTS = model_zoo.get_checkpoint_url(\"COCO-InstanceSegmentation/mask_rcnn_R_50_FPN_3x.yaml\")\n",
    "predictor = DefaultPredictor(cfg)\n",
    "outputs = predictor(im)"
   ],
   "metadata": {
    "collapsed": false
   }
  },
  {
   "cell_type": "code",
   "execution_count": 44,
   "outputs": [
    {
     "name": "stdout",
     "output_type": "stream",
     "text": [
      "tensor([75, 45, 49, 47, 50, 47, 75, 55, 49, 47, 49, 48, 47, 49, 50, 47, 13, 49,\n",
      "        60, 45, 60, 49, 47], device='cuda:0')\n",
      "Boxes(tensor([[  99.3056,  959.7385,  603.4999, 1233.0151],\n",
      "        [ 660.8810,  447.1964,  975.2817,  583.7662],\n",
      "        [ 158.7107,  807.8477,  324.9533,  932.1846],\n",
      "        [ 672.6257,  445.2398,  961.2783,  558.9960],\n",
      "        [ 630.7598,  181.6343,  786.7418,  328.6764],\n",
      "        [1233.3925,  476.4240, 1331.0933,  581.0875],\n",
      "        [ 118.4252, 1004.2790,  264.9449, 1229.1565],\n",
      "        [ 693.2082,  610.8507, 1124.2042,  837.5369],\n",
      "        [ 304.0574,  776.5294,  436.9491,  897.9233],\n",
      "        [ 296.8392,  776.2922,  436.9153,  901.7314],\n",
      "        [1235.4055,  477.8568, 1338.1301,  583.2129],\n",
      "        [ 694.8641,  609.2538, 1123.8347,  838.4774],\n",
      "        [ 675.6906,  459.9525,  804.4937,  559.1673],\n",
      "        [1320.1996,  496.5484, 1400.5161,  579.4964],\n",
      "        [ 702.6865,  183.1704,  782.0750,  315.1305],\n",
      "        [1124.9364,  406.0874, 1209.0831,  472.7047],\n",
      "        [ 128.5060,  361.3418,  589.5204,  469.4978],\n",
      "        [ 678.7766,  624.1664, 1127.5033,  846.0676],\n",
      "        [  13.4472,  700.5540,  823.6700, 1224.4507],\n",
      "        [ 509.2267,  563.8049, 1154.7372,  859.8250],\n",
      "        [  26.0025,  346.9507, 1576.0000, 1206.5031],\n",
      "        [  12.6850,  665.2074,  351.3860,  963.0062],\n",
      "        [1275.7402,  422.9156, 1353.2982,  500.8367]], device='cuda:0'))\n"
     ]
    }
   ],
   "source": [
    "# look at the outputs. See https://detectron2.readthedocs.io/tutorials/models.html#model-output-format for specification\n",
    "print(outputs[\"instances\"].pred_classes)\n",
    "print(outputs[\"instances\"].pred_boxes)"
   ],
   "metadata": {
    "collapsed": false
   }
  },
  {
   "cell_type": "code",
   "execution_count": 45,
   "outputs": [
    {
     "data": {
      "text/plain": "-1"
     },
     "execution_count": 45,
     "metadata": {},
     "output_type": "execute_result"
    }
   ],
   "source": [
    "# We can use `Visualizer` to draw the predictions on the image.\n",
    "v = Visualizer(im[:, :, ::-1], MetadataCatalog.get(cfg.DATASETS.TRAIN[0]), scale=1.2)\n",
    "out = v.draw_instance_predictions(outputs[\"instances\"].to(\"cpu\"))\n",
    "cv2.imshow('', out.get_image()[:, :, ::-1])\n",
    "cv2.waitKey(0)"
   ],
   "metadata": {
    "collapsed": false
   }
  },
  {
   "cell_type": "code",
   "execution_count": 46,
   "outputs": [
    {
     "data": {
      "text/plain": "Launching TensorBoard..."
     },
     "metadata": {},
     "output_type": "display_data"
    }
   ],
   "source": [
    "%load_ext tensorboard\n",
    "%tensorboard --logdir runs"
   ],
   "metadata": {
    "collapsed": false
   }
  },
  {
   "cell_type": "code",
   "execution_count": null,
   "outputs": [],
   "source": [],
   "metadata": {
    "collapsed": false
   }
  }
 ],
 "metadata": {
  "kernelspec": {
   "display_name": "Python 3",
   "language": "python",
   "name": "python3"
  },
  "language_info": {
   "codemirror_mode": {
    "name": "ipython",
    "version": 2
   },
   "file_extension": ".py",
   "mimetype": "text/x-python",
   "name": "python",
   "nbconvert_exporter": "python",
   "pygments_lexer": "ipython2",
   "version": "2.7.6"
  }
 },
 "nbformat": 4,
 "nbformat_minor": 0
}
