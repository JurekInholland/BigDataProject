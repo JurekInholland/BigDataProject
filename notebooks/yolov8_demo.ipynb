{
 "cells": [
  {
   "cell_type": "code",
   "execution_count": null,
   "outputs": [],
   "source": [
    "import cv2\n",
    "from ultralytics import YOLO\n",
    "import torchvision.ops as ops\n",
    "import colorsys\n",
    "import datetime"
   ],
   "metadata": {
    "collapsed": false
   }
  },
  {
   "cell_type": "code",
   "execution_count": null,
   "outputs": [],
   "source": [
    "checkpoint = YOLO('../ml_models/yolov8_50epochs_last.pt')\n",
    "# INPUT = 0 # webcam\n",
    "INPUT = \"../data/20230307_143020.mp4\"  # video"
   ],
   "metadata": {
    "collapsed": false
   }
  },
  {
   "cell_type": "code",
   "execution_count": null,
   "outputs": [],
   "source": [
    "\n",
    "def float_to_color(f):\n",
    "    \"\"\"\n",
    "    Convert a float from 0 to 1 to a BGR color from red to yellow to green.\n",
    "    \"\"\"\n",
    "    hue = 0.33 * f\n",
    "    r, g, b = colorsys.hsv_to_rgb(hue, 1, 1)\n",
    "    r = int(r * 255)\n",
    "    g = int(g * 255)\n",
    "    b = int(b * 255)\n",
    "    return (b, g, r)\n"
   ],
   "metadata": {
    "collapsed": false
   }
  },
  {
   "cell_type": "code",
   "execution_count": null,
   "outputs": [],
   "source": [
    "\n",
    "def nms_analysis(image, model):\n",
    "    threshold = 0\n",
    "    result = model(image)\n",
    "    boxes = result[0].boxes.xyxy.cuda()\n",
    "    scores = result[0].boxes.conf.cuda()\n",
    "\n",
    "    # Non-Maximum Suppression\n",
    "    indices = ops.nms(boxes, scores, threshold)\n",
    "\n",
    "    cv2.putText(image, f\"Paddles: {len(indices)}\", (15, 30), cv2.FONT_HERSHEY_SIMPLEX, .75,\n",
    "                (255, 255, 255), 2)\n",
    "\n",
    "    if indices.numel() == 0:\n",
    "        return image\n",
    "\n",
    "    boxes = boxes[indices]\n",
    "    scores = scores[indices]\n",
    "    for box, score in zip(boxes, scores):\n",
    "        if score >= threshold:\n",
    "            box = [int(i) for i in box]\n",
    "            cv2.rectangle(image, (box[0], box[1]), (box[2], box[3]), float_to_color(score), 2)\n",
    "            cv2.putText(image, f\"Score: {round(float(score), 2)}\", (box[2], box[3]), cv2.FONT_HERSHEY_SIMPLEX, 1,\n",
    "                        (255, 255, 255), 2)\n",
    "\n",
    "    return image\n",
    "\n"
   ],
   "metadata": {
    "collapsed": false
   }
  },
  {
   "cell_type": "code",
   "execution_count": null,
   "outputs": [],
   "source": [
    "def analyse_video():\n",
    "    cap = cv2.VideoCapture(INPUT)\n",
    "\n",
    "\n",
    "    now = datetime.datetime.now()\n",
    "    date_string = now.strftime('%Y-%m-%d-%H-%M-%S')\n",
    "\n",
    "    fourcc = cv2.VideoWriter_fourcc(*'mp4v')  # codec for MP4 file\n",
    "    out = cv2.VideoWriter(f\"output{date_string}.mp4\", fourcc, 30.0, (960, 540))  # output file name, codec, fps, frame size\n",
    "\n",
    "    while cap.isOpened():\n",
    "        ret, frame = cap.read()\n",
    "        # frame = cv2.resize(frame, (960, 540))\n",
    "        img = nms_analysis(frame, checkpoint)\n",
    "\n",
    "        if img is None or img.shape[0] == 0 or img.shape[1] == 0:\n",
    "            break\n",
    "        cv2.imshow('image', img)\n",
    "\n",
    "        # out.write(frame)\n",
    "\n",
    "        if cv2.waitKey(1) & 0xFF == ord('q'):\n",
    "            break\n",
    "\n",
    "    cap.release()\n",
    "    out.release()\n",
    "    cv2.destroyAllWindows()\n",
    "\n",
    "analyse_video()"
   ],
   "metadata": {
    "collapsed": false
   }
  },
  {
   "cell_type": "code",
   "execution_count": null,
   "outputs": [],
   "source": [],
   "metadata": {
    "collapsed": false
   }
  }
 ],
 "metadata": {
  "kernelspec": {
   "display_name": "Python 3",
   "language": "python",
   "name": "python3"
  },
  "language_info": {
   "codemirror_mode": {
    "name": "ipython",
    "version": 2
   },
   "file_extension": ".py",
   "mimetype": "text/x-python",
   "name": "python",
   "nbconvert_exporter": "python",
   "pygments_lexer": "ipython2",
   "version": "2.7.6"
  }
 },
 "nbformat": 4,
 "nbformat_minor": 0
}
