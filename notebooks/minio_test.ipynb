{
 "cells": [
  {
   "cell_type": "code",
   "execution_count": null,
   "metadata": {
    "collapsed": true
   },
   "outputs": [],
   "source": [
    "import os\n",
    "\n",
    "from minio import Minio\n",
    "from dotenv import load_dotenv, find_dotenv\n",
    "from minio.error import S3Error\n",
    "\n",
    "load_dotenv(find_dotenv())\n",
    "\n",
    "MINIO_KEY = os.environ.get(\"MINIO_KEY\")\n",
    "MINIO_SECRET = os.environ.get(\"MINIO_SECRET\")\n",
    "print(os.getcwd())"
   ]
  },
  {
   "cell_type": "code",
   "execution_count": null,
   "metadata": {},
   "outputs": [],
   "source": [
    "client = Minio(\n",
    "    \"s3.juri.lol\",\n",
    "    access_key=MINIO_KEY,\n",
    "    secret_key=MINIO_SECRET,\n",
    ")\n",
    "\n",
    "# Make 'asiatrip' bucket if not exist.\n",
    "found = client.bucket_exists(\"asiatrip\")\n",
    "if not found:\n",
    "    client.make_bucket(\"asiatrip\")\n",
    "else:\n",
    "    print(\"Bucket 'asiatrip' already exists\")\n",
    "\n",
    "# Upload '/home/user/Photos/asiaphotos.zip' as object name\n",
    "# 'asiaphotos-2015.zip' to bucket 'asiatrip'.\n",
    "# client.fput_object(\n",
    "#     \"asiatrip\", \"asiaphotos-2015.zip\", \"./gpu_test.ipynb\",\n",
    "# )\n",
    "# client.fget_object(\n",
    "#     \"data\", \"images\", \"images\", )\n",
    "# copy_result = client.copy_object(\"data\", \"jlpea-12-00051-v2.pdf\",\n",
    "#                                  \"/my-sourcebucket/my-sourceobject\")\n",
    "print(\n",
    "    \"'gpu_test_ipynb' is successfully uploaded as \"\n",
    "    \"object 'asiaphotos-2015.zip' to bucket 'asiatrip'.\"\n",
    ")\n"
   ]
  },
  {
   "cell_type": "code",
   "execution_count": 1,
   "metadata": {},
   "outputs": [
    {
     "name": "stdout",
     "output_type": "stream",
     "text": [
      "Downloaded Camera 1_2.mkv\n",
      "Downloaded Camera 1_2.mov\n",
      "Downloaded Desktop 2023.02.27 - 02.55.33.04.mp4\n",
      "Downloaded raw/2022/2022-05-05 10.33.22/Camera 1.mov\n",
      "Downloaded raw/2022/2022-05-05 10.33.22/Camera 3.mov\n",
      "Downloaded raw/2022/2022-05-05 10.33.22/Camera 4.mov\n",
      "Downloaded raw/2022/2022-05-05 10.42.35/Camera 1.mov\n",
      "Downloaded raw/2022/2022-05-05 10.42.35/Camera 3.mov\n",
      "Downloaded raw/2022/2022-05-05 10.42.35/Camera 4.mov\n",
      "Downloaded raw/2022/2022-05-05 10.42.48/Camera 1_1.mov\n",
      "Downloaded raw/2022/2022-05-05 10.42.48/Camera 3_1.mov\n",
      "Downloaded raw/2022/2022-05-05 10.42.48/Camera 4_1.mov\n",
      "Downloaded raw/2022/2022-05-05 10.43.12/Camera 1_2.mkv\n",
      "Downloaded raw/2022/2022-05-05 10.43.12/Camera 1_2.mov\n",
      "Downloaded raw/2022/2022-05-05 10.43.12/Camera 3_2.mov\n",
      "Downloaded raw/2022/2022-05-05 10.43.12/Camera 4_2.mov\n",
      "Downloaded raw/2022/2022-05-05 11.02.32/Camera 1.mov\n",
      "Downloaded raw/2022/2022-05-05 11.02.32/Camera 3.mov\n",
      "Downloaded raw/2022/2022-05-05 11.02.32/Camera 4.mov\n",
      "Downloaded raw/2022/2022-05-05 11.15.28/Camera 1.meta\n",
      "Downloaded raw/2022/2022-05-05 11.15.28/Camera 1.mov\n",
      "Downloaded raw/2022/2022-05-05 11.15.28/Camera 3.meta\n",
      "Downloaded raw/2022/2022-05-05 11.15.28/Camera 3.mov\n",
      "Downloaded raw/2022/2022-05-05 11.15.28/Camera 4.meta\n",
      "Downloaded raw/2022/2022-05-05 11.15.28/Camera 4.mov\n",
      "Downloaded raw/2022/2022-05-05 11.15.28/Screen Capture 1.meta\n",
      "Downloaded raw/2022/2022-05-05 11.15.28/Screen Capture 1.mov\n",
      "Downloaded raw/2022/2022-05-05 11.27.18/Camera 1.meta\n",
      "Downloaded raw/2022/2022-05-05 11.27.18/Camera 1.mov\n",
      "Downloaded raw/2022/2022-05-05 11.27.18/Camera 3.meta\n",
      "Downloaded raw/2022/2022-05-05 11.27.18/Camera 3.mov\n",
      "Downloaded raw/2022/2022-05-05 11.27.18/Camera 4.meta\n",
      "Downloaded raw/2022/2022-05-05 11.27.18/Camera 4.mov\n",
      "Downloaded raw/2022/2022-05-05 11.27.18/Screen Capture 1.meta\n",
      "Downloaded raw/2022/2022-05-05 11.27.18/Screen Capture 1.mov\n",
      "Downloaded raw/2022/2022-05-05 11.29.07/Camera 1.mov\n",
      "Downloaded raw/2022/2022-05-05 11.29.07/Camera 3.mov\n",
      "Downloaded raw/2022/2022-05-05 11.29.07/Camera 4.mov\n",
      "Downloaded raw/2022/2022-05-05 11.29.07/Screen Capture 1.mov\n",
      "Downloaded raw/2022/2022-05-05 11.29.29/Camera 1_1.mov\n",
      "Downloaded raw/2022/2022-05-05 11.29.29/Camera 3_1.mov\n",
      "Downloaded raw/2022/2022-05-05 11.29.29/Camera 4_1.mov\n",
      "Downloaded raw/2022/2022-05-05 11.29.29/Screen Capture 1_1.mov\n",
      "Downloaded raw/2022/2022-05-05 11.29.34/Camera 1_2.mov\n",
      "Downloaded raw/2022/2022-05-05 11.29.34/Camera 3_2.mov\n",
      "Downloaded raw/2022/2022-05-05 11.29.34/Camera 4_2.mov\n",
      "Downloaded raw/2022/2022-05-05 11.29.34/Screen Capture 1_2.mov\n",
      "Downloaded raw/2022/2022-05-05 11.29.41/Camera 1_3.mov\n",
      "Downloaded raw/2022/2022-05-05 11.29.41/Camera 3_3.mov\n",
      "Downloaded raw/2022/2022-05-05 11.29.41/Camera 4_3.mov\n",
      "Downloaded raw/2022/2022-05-05 11.29.41/Screen Capture 1_3.mov\n",
      "Downloaded raw/2022/2022-05-05 11.30.50/Camera 1_4.mov\n",
      "Downloaded raw/2022/2022-05-05 11.30.50/Camera 3_4.mov\n",
      "Downloaded raw/2022/2022-05-05 11.30.50/Camera 4_4.mov\n",
      "Downloaded raw/2022/2022-05-05 11.30.50/Screen Capture 1_4.mov\n",
      "Downloaded raw/2022/2022-05-05 11.34.29/Camera 1_10.mov\n",
      "Downloaded raw/2022/2022-05-05 11.34.29/Camera 3_10.mov\n",
      "Downloaded raw/2022/2022-05-05 11.34.29/Camera 4_10.mov\n",
      "Downloaded raw/2022/2022-05-05 11.34.29/Screen Capture 1_10.mov\n"
     ]
    }
   ],
   "source": [
    "import src.data.download_data as download_data\n",
    "import os\n",
    "\n",
    "# os.path.join(\"./\", \"data\", \"raw\")\n",
    "download_data.download_raw_data()"
   ]
  },
  {
   "cell_type": "code",
   "execution_count": null,
   "metadata": {},
   "outputs": [],
   "source": []
  }
 ],
 "metadata": {
  "kernelspec": {
   "name": "python3",
   "language": "python",
   "display_name": "Python 3 (ipykernel)"
  },
  "language_info": {
   "codemirror_mode": {
    "name": "ipython",
    "version": 3
   },
   "file_extension": ".py",
   "mimetype": "text/x-python",
   "name": "python",
   "nbconvert_exporter": "python",
   "pygments_lexer": "ipython3",
   "version": "3.8.16"
  }
 },
 "nbformat": 4,
 "nbformat_minor": 1
}
